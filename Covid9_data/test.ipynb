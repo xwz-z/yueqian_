{
 "cells": [
  {
   "cell_type": "code",
   "execution_count": 1,
   "outputs": [],
   "source": [
    "import pandas as pd\n",
    "history = pd.read_csv('history.csv')\n",
    "risk_info = pd.read_csv('risk_area.csv')\n",
    "details = pd.read_csv('details.csv')"
   ],
   "metadata": {
    "collapsed": false,
    "pycharm": {
     "name": "#%%\n"
    }
   }
  },
  {
   "cell_type": "code",
   "execution_count": 5,
   "outputs": [
    {
     "data": {
      "text/plain": "           ds  confirm  confirm_add  confirm_now    heal  heal_add   dead  \\\n0  2022-09-01  5974028        35968      5627114  322031       815  24883   \n1  2022-09-02  6009747        35719      5662088  322732       701  24927   \n2  2022-09-03  6044288        34541      5695729  323583       851  24976   \n3  2022-09-04  6080405        36117      5731157  324229      1004  25019   \n4  2022-09-05  6106096        25645      5756234  324804      1259  25058   \n\n   dead_add  importedCase  importedCase_add  \n0        47         22544                55  \n1        44         22606                62  \n2        49         22676                70  \n3        92         22722                46  \n4       131         22768                46  ",
      "text/html": "<div>\n<style scoped>\n    .dataframe tbody tr th:only-of-type {\n        vertical-align: middle;\n    }\n\n    .dataframe tbody tr th {\n        vertical-align: top;\n    }\n\n    .dataframe thead th {\n        text-align: right;\n    }\n</style>\n<table border=\"1\" class=\"dataframe\">\n  <thead>\n    <tr style=\"text-align: right;\">\n      <th></th>\n      <th>ds</th>\n      <th>confirm</th>\n      <th>confirm_add</th>\n      <th>confirm_now</th>\n      <th>heal</th>\n      <th>heal_add</th>\n      <th>dead</th>\n      <th>dead_add</th>\n      <th>importedCase</th>\n      <th>importedCase_add</th>\n    </tr>\n  </thead>\n  <tbody>\n    <tr>\n      <th>0</th>\n      <td>2022-09-01</td>\n      <td>5974028</td>\n      <td>35968</td>\n      <td>5627114</td>\n      <td>322031</td>\n      <td>815</td>\n      <td>24883</td>\n      <td>47</td>\n      <td>22544</td>\n      <td>55</td>\n    </tr>\n    <tr>\n      <th>1</th>\n      <td>2022-09-02</td>\n      <td>6009747</td>\n      <td>35719</td>\n      <td>5662088</td>\n      <td>322732</td>\n      <td>701</td>\n      <td>24927</td>\n      <td>44</td>\n      <td>22606</td>\n      <td>62</td>\n    </tr>\n    <tr>\n      <th>2</th>\n      <td>2022-09-03</td>\n      <td>6044288</td>\n      <td>34541</td>\n      <td>5695729</td>\n      <td>323583</td>\n      <td>851</td>\n      <td>24976</td>\n      <td>49</td>\n      <td>22676</td>\n      <td>70</td>\n    </tr>\n    <tr>\n      <th>3</th>\n      <td>2022-09-04</td>\n      <td>6080405</td>\n      <td>36117</td>\n      <td>5731157</td>\n      <td>324229</td>\n      <td>1004</td>\n      <td>25019</td>\n      <td>92</td>\n      <td>22722</td>\n      <td>46</td>\n    </tr>\n    <tr>\n      <th>4</th>\n      <td>2022-09-05</td>\n      <td>6106096</td>\n      <td>25645</td>\n      <td>5756234</td>\n      <td>324804</td>\n      <td>1259</td>\n      <td>25058</td>\n      <td>131</td>\n      <td>22768</td>\n      <td>46</td>\n    </tr>\n  </tbody>\n</table>\n</div>"
     },
     "execution_count": 5,
     "metadata": {},
     "output_type": "execute_result"
    }
   ],
   "source": [
    "history.head(5)"
   ],
   "metadata": {
    "collapsed": false,
    "pycharm": {
     "name": "#%%\n"
    }
   }
  },
  {
   "cell_type": "code",
   "execution_count": 6,
   "outputs": [
    {
     "data": {
      "text/plain": "   id end_update_time province city county     address type\n0   1  2022-11-28 11时      北京市  朝阳区  呼家楼街道  关北街21号楼1单元  高风险\n1   2  2022-11-28 11时      北京市  朝阳区  呼家楼街道      关东店5号楼  高风险\n2   3  2022-11-28 11时      北京市  朝阳区  呼家楼街道      光华路1号楼  高风险\n3   4  2022-11-28 11时      北京市  朝阳区  呼家楼街道     好世界商业广场  高风险\n4   5  2022-11-28 11时      北京市  朝阳区  呼家楼街道    核桃园北里甲3号  高风险",
      "text/html": "<div>\n<style scoped>\n    .dataframe tbody tr th:only-of-type {\n        vertical-align: middle;\n    }\n\n    .dataframe tbody tr th {\n        vertical-align: top;\n    }\n\n    .dataframe thead th {\n        text-align: right;\n    }\n</style>\n<table border=\"1\" class=\"dataframe\">\n  <thead>\n    <tr style=\"text-align: right;\">\n      <th></th>\n      <th>id</th>\n      <th>end_update_time</th>\n      <th>province</th>\n      <th>city</th>\n      <th>county</th>\n      <th>address</th>\n      <th>type</th>\n    </tr>\n  </thead>\n  <tbody>\n    <tr>\n      <th>0</th>\n      <td>1</td>\n      <td>2022-11-28 11时</td>\n      <td>北京市</td>\n      <td>朝阳区</td>\n      <td>呼家楼街道</td>\n      <td>关北街21号楼1单元</td>\n      <td>高风险</td>\n    </tr>\n    <tr>\n      <th>1</th>\n      <td>2</td>\n      <td>2022-11-28 11时</td>\n      <td>北京市</td>\n      <td>朝阳区</td>\n      <td>呼家楼街道</td>\n      <td>关东店5号楼</td>\n      <td>高风险</td>\n    </tr>\n    <tr>\n      <th>2</th>\n      <td>3</td>\n      <td>2022-11-28 11时</td>\n      <td>北京市</td>\n      <td>朝阳区</td>\n      <td>呼家楼街道</td>\n      <td>光华路1号楼</td>\n      <td>高风险</td>\n    </tr>\n    <tr>\n      <th>3</th>\n      <td>4</td>\n      <td>2022-11-28 11时</td>\n      <td>北京市</td>\n      <td>朝阳区</td>\n      <td>呼家楼街道</td>\n      <td>好世界商业广场</td>\n      <td>高风险</td>\n    </tr>\n    <tr>\n      <th>4</th>\n      <td>5</td>\n      <td>2022-11-28 11时</td>\n      <td>北京市</td>\n      <td>朝阳区</td>\n      <td>呼家楼街道</td>\n      <td>核桃园北里甲3号</td>\n      <td>高风险</td>\n    </tr>\n  </tbody>\n</table>\n</div>"
     },
     "execution_count": 6,
     "metadata": {},
     "output_type": "execute_result"
    }
   ],
   "source": [
    "risk_info.head(5)"
   ],
   "metadata": {
    "collapsed": false,
    "pycharm": {
     "name": "#%%\n"
    }
   }
  },
  {
   "cell_type": "code",
   "execution_count": 13,
   "outputs": [
    {
     "data": {
      "text/plain": "        id update_time province  confirm  confirm_add  confirm_now  heal_add  \\\n0        1  2022-11-24       台湾  8210955        17883    8183111.0       0.0   \n1        2  2022-08-01       台湾  4604761        16576          NaN       0.0   \n2        3  2022-08-02       台湾  4628294        23533          NaN       0.0   \n3        4  2022-08-03       台湾  4652186        23892          NaN       0.0   \n4        5  2022-08-04       台湾  4675128        22942          NaN       0.0   \n...    ...         ...      ...      ...          ...          ...       ...   \n4721  4722  2022-12-17       江西     1549            0         15.0       0.0   \n4722  4723  2022-12-17       宁夏      239            0         15.0       0.0   \n4723  4724  2022-12-17       甘肃     1561            0         10.0       0.0   \n4724  4725  2022-12-17       西藏     1515            0          4.0       0.0   \n4725  4726  2022-12-17       河北     2877           13       1665.0       7.0   \n\n       heal   dead  dead_add  \n0     13742  14102        31  \n1     13742   8963        36  \n2     13742   8994        31  \n3     13742   9026        32  \n4     13742   9082        56  \n...     ...    ...       ...  \n4721   1533      1         0  \n4722    224      0         0  \n4723   1549      2         0  \n4724   1511      0         0  \n4725   4535      7         0  \n\n[4726 rows x 10 columns]",
      "text/html": "<div>\n<style scoped>\n    .dataframe tbody tr th:only-of-type {\n        vertical-align: middle;\n    }\n\n    .dataframe tbody tr th {\n        vertical-align: top;\n    }\n\n    .dataframe thead th {\n        text-align: right;\n    }\n</style>\n<table border=\"1\" class=\"dataframe\">\n  <thead>\n    <tr style=\"text-align: right;\">\n      <th></th>\n      <th>id</th>\n      <th>update_time</th>\n      <th>province</th>\n      <th>confirm</th>\n      <th>confirm_add</th>\n      <th>confirm_now</th>\n      <th>heal_add</th>\n      <th>heal</th>\n      <th>dead</th>\n      <th>dead_add</th>\n    </tr>\n  </thead>\n  <tbody>\n    <tr>\n      <th>0</th>\n      <td>1</td>\n      <td>2022-11-24</td>\n      <td>台湾</td>\n      <td>8210955</td>\n      <td>17883</td>\n      <td>8183111.0</td>\n      <td>0.0</td>\n      <td>13742</td>\n      <td>14102</td>\n      <td>31</td>\n    </tr>\n    <tr>\n      <th>1</th>\n      <td>2</td>\n      <td>2022-08-01</td>\n      <td>台湾</td>\n      <td>4604761</td>\n      <td>16576</td>\n      <td>NaN</td>\n      <td>0.0</td>\n      <td>13742</td>\n      <td>8963</td>\n      <td>36</td>\n    </tr>\n    <tr>\n      <th>2</th>\n      <td>3</td>\n      <td>2022-08-02</td>\n      <td>台湾</td>\n      <td>4628294</td>\n      <td>23533</td>\n      <td>NaN</td>\n      <td>0.0</td>\n      <td>13742</td>\n      <td>8994</td>\n      <td>31</td>\n    </tr>\n    <tr>\n      <th>3</th>\n      <td>4</td>\n      <td>2022-08-03</td>\n      <td>台湾</td>\n      <td>4652186</td>\n      <td>23892</td>\n      <td>NaN</td>\n      <td>0.0</td>\n      <td>13742</td>\n      <td>9026</td>\n      <td>32</td>\n    </tr>\n    <tr>\n      <th>4</th>\n      <td>5</td>\n      <td>2022-08-04</td>\n      <td>台湾</td>\n      <td>4675128</td>\n      <td>22942</td>\n      <td>NaN</td>\n      <td>0.0</td>\n      <td>13742</td>\n      <td>9082</td>\n      <td>56</td>\n    </tr>\n    <tr>\n      <th>...</th>\n      <td>...</td>\n      <td>...</td>\n      <td>...</td>\n      <td>...</td>\n      <td>...</td>\n      <td>...</td>\n      <td>...</td>\n      <td>...</td>\n      <td>...</td>\n      <td>...</td>\n    </tr>\n    <tr>\n      <th>4721</th>\n      <td>4722</td>\n      <td>2022-12-17</td>\n      <td>江西</td>\n      <td>1549</td>\n      <td>0</td>\n      <td>15.0</td>\n      <td>0.0</td>\n      <td>1533</td>\n      <td>1</td>\n      <td>0</td>\n    </tr>\n    <tr>\n      <th>4722</th>\n      <td>4723</td>\n      <td>2022-12-17</td>\n      <td>宁夏</td>\n      <td>239</td>\n      <td>0</td>\n      <td>15.0</td>\n      <td>0.0</td>\n      <td>224</td>\n      <td>0</td>\n      <td>0</td>\n    </tr>\n    <tr>\n      <th>4723</th>\n      <td>4724</td>\n      <td>2022-12-17</td>\n      <td>甘肃</td>\n      <td>1561</td>\n      <td>0</td>\n      <td>10.0</td>\n      <td>0.0</td>\n      <td>1549</td>\n      <td>2</td>\n      <td>0</td>\n    </tr>\n    <tr>\n      <th>4724</th>\n      <td>4725</td>\n      <td>2022-12-17</td>\n      <td>西藏</td>\n      <td>1515</td>\n      <td>0</td>\n      <td>4.0</td>\n      <td>0.0</td>\n      <td>1511</td>\n      <td>0</td>\n      <td>0</td>\n    </tr>\n    <tr>\n      <th>4725</th>\n      <td>4726</td>\n      <td>2022-12-17</td>\n      <td>河北</td>\n      <td>2877</td>\n      <td>13</td>\n      <td>1665.0</td>\n      <td>7.0</td>\n      <td>4535</td>\n      <td>7</td>\n      <td>0</td>\n    </tr>\n  </tbody>\n</table>\n<p>4726 rows × 10 columns</p>\n</div>"
     },
     "execution_count": 13,
     "metadata": {},
     "output_type": "execute_result"
    }
   ],
   "source": [
    "details"
   ],
   "metadata": {
    "collapsed": false,
    "pycharm": {
     "name": "#%%\n"
    }
   }
  },
  {
   "cell_type": "code",
   "execution_count": 2,
   "outputs": [],
   "source": [
    "global details\n",
    "details = details.sort_values('update_time')\n",
    "details_province = details.groupby('province')\n",
    "data = details_province.apply(lambda x:x.tail(1))['confirm']\n",
    "province_data = {}\n",
    "for index, confirm in zip(data.index, data.values):\n",
    "    province_data[index[0]] = confirm\n"
   ],
   "metadata": {
    "collapsed": false,
    "pycharm": {
     "name": "#%%\n"
    }
   }
  },
  {
   "cell_type": "code",
   "execution_count": 3,
   "outputs": [
    {
     "data": {
      "text/plain": "{'上海': 65102,\n '云南': 5063,\n '内蒙古': 8318,\n '北京': 26660,\n '台湾': 8547315,\n '吉林': 40480,\n '四川': 11560,\n '天津': 2695,\n '宁夏': 239,\n '安徽': 1699,\n '山东': 4678,\n '山西': 5038,\n '广东': 58258,\n '广西': 2438,\n '新疆': 2632,\n '江苏': 3769,\n '江西': 1549,\n '河北': 2877,\n '河南': 8897,\n '浙江': 6029,\n '海南': 10422,\n '湖北': 68861,\n '湖南': 2462,\n '澳门': 1365,\n '甘肃': 1561,\n '福建': 7253,\n '西藏': 1515,\n '贵州': 1777,\n '辽宁': 3066,\n '重庆': 9196,\n '陕西': 5480,\n '青海': 524,\n '香港': 482878,\n '黑龙江': 5433}"
     },
     "execution_count": 3,
     "metadata": {},
     "output_type": "execute_result"
    }
   ],
   "source": [
    "province_data"
   ],
   "metadata": {
    "collapsed": false,
    "pycharm": {
     "name": "#%%\n"
    }
   }
  },
  {
   "cell_type": "code",
   "execution_count": 27,
   "outputs": [
    {
     "data": {
      "text/plain": "pandas.core.frame.DataFrame"
     },
     "execution_count": 27,
     "metadata": {},
     "output_type": "execute_result"
    }
   ],
   "source": [
    "type(data)"
   ],
   "metadata": {
    "collapsed": false,
    "pycharm": {
     "name": "#%%\n"
    }
   }
  },
  {
   "cell_type": "code",
   "execution_count": 14,
   "outputs": [
    {
     "data": {
      "text/plain": "0      2022-09-01\n1      2022-09-02\n2      2022-09-03\n3      2022-09-04\n4      2022-09-05\n          ...    \n101    2022-12-12\n102    2022-12-13\n103    2022-12-14\n104    2022-12-15\n105    2022-12-16\nName: ds, Length: 106, dtype: object"
     },
     "execution_count": 14,
     "metadata": {},
     "output_type": "execute_result"
    }
   ],
   "source": [
    "global history\n",
    "history.ds"
   ],
   "metadata": {
    "collapsed": false,
    "pycharm": {
     "name": "#%%\n"
    }
   }
  },
  {
   "cell_type": "code",
   "execution_count": 19,
   "outputs": [],
   "source": [
    "history.ds = pd.to_datetime(history.ds)\n",
    "history.set_index('ds', inplace=True)"
   ],
   "metadata": {
    "collapsed": false,
    "pycharm": {
     "name": "#%%\n"
    }
   }
  },
  {
   "cell_type": "code",
   "execution_count": 28,
   "outputs": [
    {
     "data": {
      "text/plain": "DatetimeIndex(['2022-11-01', '2022-11-02', '2022-11-03', '2022-11-05',\n               '2022-11-06', '2022-11-07', '2022-11-08', '2022-11-09',\n               '2022-11-10', '2022-11-11', '2022-11-12', '2022-11-13',\n               '2022-11-14', '2022-11-15', '2022-11-16', '2022-11-17',\n               '2022-11-18', '2022-11-19', '2022-11-20', '2022-11-21',\n               '2022-11-22', '2022-11-23', '2022-11-24', '2022-11-25',\n               '2022-11-26', '2022-11-27', '2022-11-28', '2022-11-29',\n               '2022-11-30', '2022-12-01', '2022-12-02', '2022-12-03',\n               '2022-12-04', '2022-12-05', '2022-12-06', '2022-12-07',\n               '2022-12-08', '2022-12-09', '2022-12-10', '2022-12-11',\n               '2022-12-12', '2022-12-13', '2022-12-14', '2022-12-15',\n               '2022-12-16'],\n              dtype='datetime64[ns]', name='ds', freq=None)"
     },
     "execution_count": 28,
     "metadata": {},
     "output_type": "execute_result"
    }
   ],
   "source": [
    "data = history['2022-11-01':'2022-12-31']\n",
    "data.index.strftime"
   ],
   "metadata": {
    "collapsed": false,
    "pycharm": {
     "name": "#%%\n"
    }
   }
  },
  {
   "cell_type": "code",
   "execution_count": 30,
   "outputs": [
    {
     "ename": "KeyError",
     "evalue": "'Value'",
     "output_type": "error",
     "traceback": [
      "\u001B[1;31m---------------------------------------------------------------------------\u001B[0m",
      "\u001B[1;31mKeyError\u001B[0m                                  Traceback (most recent call last)",
      "Input \u001B[1;32mIn [30]\u001B[0m, in \u001B[0;36m<cell line: 2>\u001B[1;34m()\u001B[0m\n\u001B[0;32m      1\u001B[0m \u001B[38;5;28;01mglobal\u001B[39;00m details\n\u001B[1;32m----> 2\u001B[0m pivot_table \u001B[38;5;241m=\u001B[39m \u001B[43mpd\u001B[49m\u001B[38;5;241;43m.\u001B[39;49m\u001B[43mpivot_table\u001B[49m\u001B[43m(\u001B[49m\u001B[43mdetails\u001B[49m\u001B[43m,\u001B[49m\u001B[43m \u001B[49m\u001B[43mvalues\u001B[49m\u001B[38;5;241;43m=\u001B[39;49m\u001B[38;5;124;43m'\u001B[39;49m\u001B[38;5;124;43mValue\u001B[39;49m\u001B[38;5;124;43m'\u001B[39;49m\u001B[43m,\u001B[49m\u001B[43m \u001B[49m\u001B[43mindex\u001B[49m\u001B[38;5;241;43m=\u001B[39;49m\u001B[38;5;124;43m'\u001B[39;49m\u001B[38;5;124;43mCategory\u001B[39;49m\u001B[38;5;124;43m'\u001B[39;49m\u001B[43m,\u001B[49m\u001B[43m \u001B[49m\u001B[43maggfunc\u001B[49m\u001B[38;5;241;43m=\u001B[39;49m\u001B[38;5;124;43m'\u001B[39;49m\u001B[38;5;124;43msum\u001B[39;49m\u001B[38;5;124;43m'\u001B[39;49m\u001B[43m)\u001B[49m\n\u001B[0;32m      3\u001B[0m pivot_table\u001B[38;5;241m.\u001B[39mto_csv(\u001B[38;5;124m'\u001B[39m\u001B[38;5;124mpivot_table.csv\u001B[39m\u001B[38;5;124m'\u001B[39m)\n",
      "File \u001B[1;32mD:\\anaconda\\lib\\site-packages\\pandas\\core\\reshape\\pivot.py:95\u001B[0m, in \u001B[0;36mpivot_table\u001B[1;34m(data, values, index, columns, aggfunc, fill_value, margins, dropna, margins_name, observed, sort)\u001B[0m\n\u001B[0;32m     92\u001B[0m     table \u001B[38;5;241m=\u001B[39m concat(pieces, keys\u001B[38;5;241m=\u001B[39mkeys, axis\u001B[38;5;241m=\u001B[39m\u001B[38;5;241m1\u001B[39m)\n\u001B[0;32m     93\u001B[0m     \u001B[38;5;28;01mreturn\u001B[39;00m table\u001B[38;5;241m.\u001B[39m__finalize__(data, method\u001B[38;5;241m=\u001B[39m\u001B[38;5;124m\"\u001B[39m\u001B[38;5;124mpivot_table\u001B[39m\u001B[38;5;124m\"\u001B[39m)\n\u001B[1;32m---> 95\u001B[0m table \u001B[38;5;241m=\u001B[39m \u001B[43m__internal_pivot_table\u001B[49m\u001B[43m(\u001B[49m\n\u001B[0;32m     96\u001B[0m \u001B[43m    \u001B[49m\u001B[43mdata\u001B[49m\u001B[43m,\u001B[49m\n\u001B[0;32m     97\u001B[0m \u001B[43m    \u001B[49m\u001B[43mvalues\u001B[49m\u001B[43m,\u001B[49m\n\u001B[0;32m     98\u001B[0m \u001B[43m    \u001B[49m\u001B[43mindex\u001B[49m\u001B[43m,\u001B[49m\n\u001B[0;32m     99\u001B[0m \u001B[43m    \u001B[49m\u001B[43mcolumns\u001B[49m\u001B[43m,\u001B[49m\n\u001B[0;32m    100\u001B[0m \u001B[43m    \u001B[49m\u001B[43maggfunc\u001B[49m\u001B[43m,\u001B[49m\n\u001B[0;32m    101\u001B[0m \u001B[43m    \u001B[49m\u001B[43mfill_value\u001B[49m\u001B[43m,\u001B[49m\n\u001B[0;32m    102\u001B[0m \u001B[43m    \u001B[49m\u001B[43mmargins\u001B[49m\u001B[43m,\u001B[49m\n\u001B[0;32m    103\u001B[0m \u001B[43m    \u001B[49m\u001B[43mdropna\u001B[49m\u001B[43m,\u001B[49m\n\u001B[0;32m    104\u001B[0m \u001B[43m    \u001B[49m\u001B[43mmargins_name\u001B[49m\u001B[43m,\u001B[49m\n\u001B[0;32m    105\u001B[0m \u001B[43m    \u001B[49m\u001B[43mobserved\u001B[49m\u001B[43m,\u001B[49m\n\u001B[0;32m    106\u001B[0m \u001B[43m    \u001B[49m\u001B[43msort\u001B[49m\u001B[43m,\u001B[49m\n\u001B[0;32m    107\u001B[0m \u001B[43m\u001B[49m\u001B[43m)\u001B[49m\n\u001B[0;32m    108\u001B[0m \u001B[38;5;28;01mreturn\u001B[39;00m table\u001B[38;5;241m.\u001B[39m__finalize__(data, method\u001B[38;5;241m=\u001B[39m\u001B[38;5;124m\"\u001B[39m\u001B[38;5;124mpivot_table\u001B[39m\u001B[38;5;124m\"\u001B[39m)\n",
      "File \u001B[1;32mD:\\anaconda\\lib\\site-packages\\pandas\\core\\reshape\\pivot.py:141\u001B[0m, in \u001B[0;36m__internal_pivot_table\u001B[1;34m(data, values, index, columns, aggfunc, fill_value, margins, dropna, margins_name, observed, sort)\u001B[0m\n\u001B[0;32m    139\u001B[0m \u001B[38;5;28;01mfor\u001B[39;00m i \u001B[38;5;129;01min\u001B[39;00m values:\n\u001B[0;32m    140\u001B[0m     \u001B[38;5;28;01mif\u001B[39;00m i \u001B[38;5;129;01mnot\u001B[39;00m \u001B[38;5;129;01min\u001B[39;00m data:\n\u001B[1;32m--> 141\u001B[0m         \u001B[38;5;28;01mraise\u001B[39;00m \u001B[38;5;167;01mKeyError\u001B[39;00m(i)\n\u001B[0;32m    143\u001B[0m to_filter \u001B[38;5;241m=\u001B[39m []\n\u001B[0;32m    144\u001B[0m \u001B[38;5;28;01mfor\u001B[39;00m x \u001B[38;5;129;01min\u001B[39;00m keys \u001B[38;5;241m+\u001B[39m values:\n",
      "\u001B[1;31mKeyError\u001B[0m: 'Value'"
     ]
    }
   ],
   "source": [
    "global details\n",
    "pivot_table = pd.pivot_table(details, values='Value', index='Category', aggfunc='sum')\n",
    "pivot_table.to_csv('pivot_table.csv')"
   ],
   "metadata": {
    "collapsed": false,
    "pycharm": {
     "name": "#%%\n"
    }
   }
  },
  {
   "cell_type": "code",
   "execution_count": null,
   "outputs": [],
   "source": [],
   "metadata": {
    "collapsed": false,
    "pycharm": {
     "name": "#%%\n"
    }
   }
  }
 ],
 "metadata": {
  "kernelspec": {
   "display_name": "Python 3",
   "language": "python",
   "name": "python3"
  },
  "language_info": {
   "codemirror_mode": {
    "name": "ipython",
    "version": 2
   },
   "file_extension": ".py",
   "mimetype": "text/x-python",
   "name": "python",
   "nbconvert_exporter": "python",
   "pygments_lexer": "ipython2",
   "version": "2.7.6"
  }
 },
 "nbformat": 4,
 "nbformat_minor": 0
}